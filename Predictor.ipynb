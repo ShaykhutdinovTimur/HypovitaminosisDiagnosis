{
 "cells": [
  {
   "cell_type": "code",
   "execution_count": 5,
   "metadata": {
    "collapsed": false
   },
   "outputs": [
    {
     "name": "stdout",
     "output_type": "stream",
     "text": [
      "The autoreload extension is already loaded. To reload it, use:\n",
      "  %reload_ext autoreload\n"
     ]
    },
    {
     "data": {
      "application/javascript": [
       "IPython.notebook.set_autosave_interval(15000)"
      ]
     },
     "metadata": {},
     "output_type": "display_data"
    },
    {
     "name": "stdout",
     "output_type": "stream",
     "text": [
      "Autosaving every 15 seconds\n"
     ]
    }
   ],
   "source": [
    "%matplotlib inline\n",
    "%load_ext autoreload\n",
    "%autoreload 5\n",
    "%autosave 15\n",
    "\n",
    "import pandas as pd\n",
    "import scipy as sp\n",
    "import numpy as np\n",
    "import matplotlib.pyplot as plt\n",
    "\n",
    "import math\n",
    "import sklearn\n",
    "from math import isnan\n",
    "from sklearn import datasets\n",
    "from sklearn.cross_validation import train_test_split\n",
    "from sklearn.cross_validation import cross_val_score\n",
    "from sklearn.svm import SVR, SVC\n",
    "from sklearn.decomposition import PCA\n",
    "from sklearn.linear_model import LinearRegression, LogisticRegression \n",
    "from sklearn.ensemble import RandomForestRegressor, GradientBoostingRegressor\n",
    "from sklearn.tree import DecisionTreeRegressor\n",
    "from sklearn.grid_search import GridSearchCV\n",
    "import time"
   ]
  },
  {
   "cell_type": "code",
   "execution_count": 9,
   "metadata": {
    "collapsed": false
   },
   "outputs": [
    {
     "name": "stdout",
     "output_type": "stream",
     "text": [
      "Index(['0', '1', '2', '3', '4', '5', '6', '7', '8', '9',\n",
      "       ...\n",
      "       '9990', '9991', '9992', '9993', '9994', '9995', '9996', '9997', '9998',\n",
      "       '9999'],\n",
      "      dtype='object', length=10000)\n",
      "<bound method NDFrame.head of         0      1      2      3      4      5      6      7      8      9  \\\n",
      "0  -62464 -63232 -64256 -64256 -63744 -63744 -63488 -63232 -62720 -62720   \n",
      "1  -59648 -57600 -57344 -56832 -56320 -55552 -55040 -54528 -54272 -53504   \n",
      "2  -64768 -63488 -62720 -61440 -59392 -61440 -60160 -59136 -59904 -61696   \n",
      "3  -43264 -44288 -44800 -46080 -46848 -48384 -50688 -52736 -54784 -56320   \n",
      "4  -31488 -31744 -32768 -33792 -34560 -38144 -43264 -48640 -52736 -55040   \n",
      "5  -25600 -26112 -25856 -25344 -24320 -23552 -29184 -29952 -30208 -28672   \n",
      "6  -28928 -29184 -26112 -26368 -26368 -26624 -26880 -27136 -27392 -27648   \n",
      "7   -7424  -6144  -4864  -4096  -3584  -3584  -3328  -4864  -4096  -3584   \n",
      "8  -31232 -30464 -29440 -28416 -27904 -27648 -27392 -23040 -21248 -23296   \n",
      "9  -18944 -16384 -17408 -18944 -17920 -17920 -17920 -18176 -18176 -18176   \n",
      "10 -37632 -38400 -42752 -41984 -40704 -39168 -37376 -35840 -34560 -34048   \n",
      "11 -22784 -19712 -22016 -27392 -32256 -31232 -26880 -25344 -27136 -27392   \n",
      "12 -34816 -34560 -34816 -34560 -34304 -34304 -34560 -34560 -34816 -34816   \n",
      "13 -31488 -28160 -23808 -24832 -24576 -23040 -27392 -25856 -23808 -21504   \n",
      "\n",
      "    ...     9990   9991   9992   9993   9994   9995   9996   9997   9998  \\\n",
      "0   ...   -51712 -51456 -50176 -47360 -44544 -42496 -42496 -42752 -41728   \n",
      "1   ...   -24320 -28928 -29696 -24320 -25344 -28928 -26624 -29440 -25088   \n",
      "2   ...   -22016 -21504 -23040 -23040 -21760 -20480 -21504 -25600 -32768   \n",
      "3   ...   -21248 -22528 -22272 -22016 -22016 -22528 -23552 -24832 -25600   \n",
      "4   ...   -21248 -20480 -19968 -19712 -19712 -19712 -19968 -19968 -19968   \n",
      "5   ...   -28160 -24320 -24576 -27136 -28928 -20992 -23808 -19968 -11776   \n",
      "6   ...   -33024 -34816 -36608 -37120 -36608 -34560 -32256 -30464 -31488   \n",
      "7   ...   -25344 -24064 -23296 -25344 -28160 -30208 -31232 -29952 -27136   \n",
      "8   ...   -36864 -35072 -30208 -24832 -20992 -16896 -23296 -35584 -47104   \n",
      "9   ...   -30208 -30720 -32768 -32512 -29696 -30208 -28160 -25856 -31488   \n",
      "10  ...   -18432 -15616 -15360 -15104 -19968 -25856 -26112 -25856 -25600   \n",
      "11  ...   -22784 -29440 -35840 -20480 -18688 -21504 -15360 -18688 -11264   \n",
      "12  ...   -23296 -23808 -24064 -23040 -21504 -19968 -19968 -21248 -25344   \n",
      "13  ...   -40192 -39936 -39424 -39168 -39168 -38912 -37376 -34816 -33024   \n",
      "\n",
      "     9999  \n",
      "0  -40704  \n",
      "1  -26112  \n",
      "2  -40448  \n",
      "3  -24576  \n",
      "4  -19968  \n",
      "5  -25088  \n",
      "6  -31232  \n",
      "7  -27392  \n",
      "8  -51200  \n",
      "9  -35328  \n",
      "10 -24064  \n",
      "11 -17920  \n",
      "12 -28160  \n",
      "13 -32768  \n",
      "\n",
      "[14 rows x 10000 columns]>\n"
     ]
    }
   ],
   "source": [
    "data = pd.read_csv(\"base.csv\", low_memory=False)\n",
    "#data = data.drop(data.index[[13]])\n",
    "classForData = data.clazz\n",
    "data = data.drop(['clazz'], axis=1)\n",
    "\n",
    "print(data.columns)\n",
    "print(data.head)"
   ]
  },
  {
   "cell_type": "code",
   "execution_count": 11,
   "metadata": {
    "collapsed": false
   },
   "outputs": [
    {
     "data": {
      "text/plain": [
       "RandomForestRegressor(bootstrap=True, criterion='mse', max_depth=None,\n",
       "           max_features='auto', max_leaf_nodes=None, min_samples_leaf=1,\n",
       "           min_samples_split=2, min_weight_fraction_leaf=0.0,\n",
       "           n_estimators=10, n_jobs=-1, oob_score=False, random_state=None,\n",
       "           verbose=0, warm_start=False)"
      ]
     },
     "execution_count": 11,
     "metadata": {},
     "output_type": "execute_result"
    }
   ],
   "source": [
    "ClassPredictor = RandomForestRegressor(n_jobs=-1)\n",
    "ClassPredictor.fit(data, classForData)"
   ]
  },
  {
   "cell_type": "code",
   "execution_count": 10,
   "metadata": {
    "collapsed": false
   },
   "outputs": [
    {
     "name": "stdout",
     "output_type": "stream",
     "text": [
      "Index(['clazz', '0', '1', '2', '3', '4', '5', '6', '7', '8',\n",
      "       ...\n",
      "       '9990', '9991', '9992', '9993', '9994', '9995', '9996', '9997', '9998',\n",
      "       '9999'],\n",
      "      dtype='object', length=10001)\n",
      "<bound method NDFrame.head of    clazz      0      1      2      3      4      5      6      7      8  \\\n",
      "0      1 -17664 -17920 -19968 -20224 -20480 -20736 -20992 -21504 -21248   \n",
      "1      1 -30208 -29696 -29440 -28928 -27392 -28672 -29696 -28672 -26880   \n",
      "2      1 -37120 -36608 -36096 -34816 -33536 -32768 -33792 -35328 -35840   \n",
      "\n",
      "   ...     9990   9991   9992   9993   9994   9995   9996   9997   9998   9999  \n",
      "0  ...   -20480 -14592 -13312 -15872 -17664 -20992 -24320 -24832 -21760 -19456  \n",
      "1  ...   -19200 -17664 -16640 -18688 -20992 -22016 -22528 -22272 -22784 -23296  \n",
      "2  ...   -13056 -23040 -13056 -18688 -17408 -15616 -11264  -8448 -35584 -24832  \n",
      "\n",
      "[3 rows x 10001 columns]>\n"
     ]
    }
   ],
   "source": [
    "test = pd.read_csv(\"test.csv\", low_memory=False)\n",
    "print(test.columns)\n",
    "print(test.head)"
   ]
  },
  {
   "cell_type": "code",
   "execution_count": null,
   "metadata": {
    "collapsed": true
   },
   "outputs": [],
   "source": []
  }
 ],
 "metadata": {
  "kernelspec": {
   "display_name": "Python 3",
   "language": "python",
   "name": "python3"
  },
  "language_info": {
   "codemirror_mode": {
    "name": "ipython",
    "version": 3
   },
   "file_extension": ".py",
   "mimetype": "text/x-python",
   "name": "python",
   "nbconvert_exporter": "python",
   "pygments_lexer": "ipython3",
   "version": "3.5.1"
  }
 },
 "nbformat": 4,
 "nbformat_minor": 0
}
