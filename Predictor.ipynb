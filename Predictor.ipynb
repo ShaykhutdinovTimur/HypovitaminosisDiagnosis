{
 "cells": [
  {
   "cell_type": "code",
   "execution_count": 36,
   "metadata": {
    "collapsed": false
   },
   "outputs": [
    {
     "name": "stdout",
     "output_type": "stream",
     "text": [
      "The autoreload extension is already loaded. To reload it, use:\n",
      "  %reload_ext autoreload\n"
     ]
    },
    {
     "data": {
      "application/javascript": [
       "IPython.notebook.set_autosave_interval(15000)"
      ]
     },
     "metadata": {},
     "output_type": "display_data"
    },
    {
     "name": "stdout",
     "output_type": "stream",
     "text": [
      "Autosaving every 15 seconds\n"
     ]
    }
   ],
   "source": [
    "%matplotlib inline\n",
    "%load_ext autoreload\n",
    "%autoreload 5\n",
    "%autosave 15\n",
    "\n",
    "import pandas as pd\n",
    "import scipy as sp\n",
    "import numpy as np\n",
    "import matplotlib.pyplot as plt\n",
    "\n",
    "import math\n",
    "import sklearn\n",
    "from math import isnan\n",
    "from sklearn import datasets\n",
    "from sklearn.cross_validation import train_test_split\n",
    "from sklearn.cross_validation import cross_val_score\n",
    "from sklearn.svm import SVR, SVC\n",
    "from sklearn.decomposition import PCA\n",
    "from sklearn.linear_model import LinearRegression, LogisticRegression \n",
    "from sklearn.ensemble import RandomForestRegressor, GradientBoostingRegressor\n",
    "from sklearn.tree import DecisionTreeRegressor\n",
    "from sklearn.grid_search import GridSearchCV\n",
    "import time"
   ]
  },
  {
   "cell_type": "code",
   "execution_count": 37,
   "metadata": {
    "collapsed": false
   },
   "outputs": [],
   "source": [
    "data = pd.read_csv(\"fissureBase.csv\", low_memory=False)\n",
    "test = data.drop(data.index[0:100])\n",
    "data = data.drop(data.index[101:105])\n",
    "##data = data.drop(data.index[[13]])"
   ]
  },
  {
   "cell_type": "code",
   "execution_count": 29,
   "metadata": {
    "collapsed": false
   },
   "outputs": [
    {
     "name": "stdout",
     "output_type": "stream",
     "text": [
      "<bound method NDFrame.head of      clazz      0      1      2      3      4      5      6      7      8  \\\n",
      "100      1 -15616 -14592 -16128 -18176 -16896 -15872 -15872 -16640 -17664   \n",
      "101      1 -37888 -37376 -36352 -35584 -35328 -35328 -35840 -35840 -37376   \n",
      "102      1 -47616 -48384 -42752 -41728 -40192 -38400 -36864 -36096 -36352   \n",
      "103      5 -27904 -28416 -28160 -28672 -29184 -29952 -29952 -29184 -28672   \n",
      "104      2 -45056 -44544 -44288 -45568 -47360 -48640 -48384 -47872 -48128   \n",
      "105      6 -38912 -38144 -38656 -38912 -38144 -37120 -38912 -41216 -41984   \n",
      "\n",
      "     ...     9990   9991   9992   9993   9994   9995   9996   9997   9998  \\\n",
      "100  ...   -32512 -29952 -28672 -30208 -28672 -27904 -28928 -26880 -28416   \n",
      "101  ...   -45312 -45312 -45056 -44800 -44544 -44544 -43264 -43008 -42496   \n",
      "102  ...   -33792 -34048 -34560 -35072 -35328 -35072 -34304 -34048 -35072   \n",
      "103  ...   -35584 -34560 -33792 -34304 -35840 -36352 -35840 -34816 -37120   \n",
      "104  ...   -29440 -30208 -23296 -28416 -39168 -38400 -40960 -35072 -35840   \n",
      "105  ...   -28416 -26880 -25600 -25344 -22016 -23296 -24064 -23296 -21504   \n",
      "\n",
      "      9999  \n",
      "100 -30976  \n",
      "101 -41472  \n",
      "102 -34816  \n",
      "103 -36096  \n",
      "104 -32512  \n",
      "105 -20480  \n",
      "\n",
      "[6 rows x 10001 columns]>\n"
     ]
    }
   ],
   "source": [
    "print(test.head)"
   ]
  },
  {
   "cell_type": "code",
   "execution_count": 38,
   "metadata": {
    "collapsed": false
   },
   "outputs": [
    {
     "name": "stdout",
     "output_type": "stream",
     "text": [
      "100    1\n",
      "101    1\n",
      "102    1\n",
      "103    5\n",
      "104    2\n",
      "105    6\n",
      "Name: clazz, dtype: float64\n",
      "[ 1.00527436  1.02777921  0.04423892  4.36319645  3.65420278  5.97230244]\n"
     ]
    }
   ],
   "source": [
    "classForData = data.clazz\n",
    "data = data.drop(['clazz'], axis=1)\n",
    "predictor = GradientBoostingRegressor()\n",
    "predictor.fit(data, classForData)\n",
    "\n",
    "classForTest = test.clazz\n",
    "test = test.drop(['clazz'], axis=1)\n",
    "print(classForTest)\n",
    "print(predictor.predict(test))"
   ]
  },
  {
   "cell_type": "code",
   "execution_count": null,
   "metadata": {
    "collapsed": true
   },
   "outputs": [],
   "source": []
  }
 ],
 "metadata": {
  "kernelspec": {
   "display_name": "Python 3",
   "language": "python",
   "name": "python3"
  },
  "language_info": {
   "codemirror_mode": {
    "name": "ipython",
    "version": 3
   },
   "file_extension": ".py",
   "mimetype": "text/x-python",
   "name": "python",
   "nbconvert_exporter": "python",
   "pygments_lexer": "ipython3",
   "version": "3.5.1"
  }
 },
 "nbformat": 4,
 "nbformat_minor": 0
}
